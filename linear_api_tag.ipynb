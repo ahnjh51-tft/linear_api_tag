{
  "cells": [
    {
      "cell_type": "markdown",
      "metadata": {},
      "source": [
        "# New Notebook\n",
        "\n",
        "This notebook was created automatically.\n",
        "\n",
        "- Date created: 2025-10-20\n",
        "- Environment: Windows PowerShell\n",
        "\n"
      ]
    },
    {
      "cell_type": "code",
      "execution_count": null,
      "metadata": {},
      "outputs": [
        {
          "name": "stdout",
          "output_type": "stream",
          "text": [
            "✅ Setup complete (with corrected headers). Ready to proceed.\n"
          ]
        }
      ],
      "source": [
        "# Cell 1: Setup and Configuration (Corrected)\n",
        "\n",
        "import requests\n",
        "import json\n",
        "\n",
        "# --- CONFIGURATION ---\n",
        "# ⚠️ MAKE SURE YOUR LINEAR API KEY IS PASTED HERE ⚠️\n",
        "API_KEY = \"xxxx\"\n",
        "\n",
        "# --- Script Variables ---\n",
        "# These are based on your request\n",
        "TEAM_KEY = \"TEA1\" # From your URL: /team/TEA1/all\n",
        "LABEL_NAME = \"TeamA_DeepFake\"\n",
        "ISSUE_TITLE_PREFIX = \"S2_\"\n",
        "\n",
        "# --- API Setup ---\n",
        "API_URL = \"https://api.linear.app/graphql\"\n",
        "HEADERS = {\n",
        "    \"Authorization\": API_KEY, # <-- THIS IS THE CORRECTED LINE\n",
        "    \"Content-Type\": \"application/json\"\n",
        "}\n",
        "\n",
        "# Helper function to run GraphQL queries/mutations\n",
        "def run_query(query, variables=None):\n",
        "    \"\"\"A simple function to post a query to the Linear API.\"\"\"\n",
        "    payload = {'query': query}\n",
        "    if variables:\n",
        "        payload['variables'] = variables\n",
        "    \n",
        "    response = requests.post(API_URL, headers=HEADERS, json=payload)\n",
        "    \n",
        "    if response.status_code == 200:\n",
        "        return response.json()\n",
        "    else:\n",
        "        raise Exception(f\"Query failed to run with status code {response.status_code}: {response.text}\")\n",
        "\n",
        "print(\"✅ Setup complete (with corrected headers). Ready to proceed.\")"
      ]
    },
    {
      "cell_type": "code",
      "execution_count": 11,
      "metadata": {},
      "outputs": [
        {
          "name": "stdout",
          "output_type": "stream",
          "text": [
            "✅ Found existing label 'TeamA_DeepFake' with ID: 8754c942-21da-457e-b9e5-b5821e560608\n"
          ]
        }
      ],
      "source": [
        "# Cell 2: Step 1 - Find or Create the Label\n",
        "\n",
        "# GraphQL query to find the label by name\n",
        "find_label_query = \"\"\"\n",
        "    query($name: String!) {\n",
        "      issueLabels(filter: { name: { eq: $name } }) {\n",
        "        nodes {\n",
        "          id\n",
        "          name\n",
        "        }\n",
        "      }\n",
        "    }\n",
        "\"\"\"\n",
        "\n",
        "# Run the query\n",
        "variables = {\"name\": LABEL_NAME}\n",
        "data = run_query(find_label_query, variables)\n",
        "\n",
        "# Check if the label was found\n",
        "labels = data['data']['issueLabels']['nodes']\n",
        "label_id = None\n",
        "\n",
        "if labels:\n",
        "    label_id = labels[0]['id']\n",
        "    print(f\"✅ Found existing label '{LABEL_NAME}' with ID: {label_id}\")\n",
        "else:\n",
        "    print(f\"🔍 Label '{LABEL_NAME}' not found. Creating it...\")\n",
        "    # GraphQL mutation to create the label\n",
        "    create_label_mutation = \"\"\"\n",
        "        mutation($name: String!) {\n",
        "          issueLabelCreate(input: { name: $name }) {\n",
        "            success\n",
        "            issueLabel {\n",
        "              id\n",
        "              name\n",
        "            }\n",
        "          }\n",
        "        }\n",
        "    \"\"\"\n",
        "    create_data = run_query(create_label_mutation, variables)\n",
        "    if create_data['data']['issueLabelCreate']['success']:\n",
        "        label_id = create_data['data']['issueLabelCreate']['issueLabel']['id']\n",
        "        print(f\"✅ Successfully created label '{LABEL_NAME}' with ID: {label_id}\")\n",
        "    else:\n",
        "        raise Exception(\"Failed to create the label.\")"
      ]
    },
    {
      "cell_type": "code",
      "execution_count": 12,
      "metadata": {},
      "outputs": [
        {
          "name": "stdout",
          "output_type": "stream",
          "text": [
            "🔎 Searching for issues starting with 'S2_' in team 'TEA1'...\n",
            "✅ Found 3 matching issues:\n",
            "  - TEA1-18: S2_プロジェクト計画書の作成\n",
            "  - TEA1-17: S2_利用ツールを決める\n",
            "  - TEA1-15: S2_目的・スコープ・マイルストンを決める\n"
          ]
        }
      ],
      "source": [
        "# Cell 3: Step 2 - Find Matching Issues\n",
        "\n",
        "# GraphQL query to get issues from a specific team\n",
        "get_issues_query = \"\"\"\n",
        "    query($teamKey: String!) {\n",
        "      team(id: $teamKey) {\n",
        "        id\n",
        "        issues(first: 250) { # Fetches up to 250 issues, increase if needed\n",
        "          nodes {\n",
        "            id\n",
        "            title\n",
        "            identifier\n",
        "            labelIds\n",
        "          }\n",
        "        }\n",
        "      }\n",
        "    }\n",
        "\"\"\"\n",
        "\n",
        "print(f\"🔎 Searching for issues starting with '{ISSUE_TITLE_PREFIX}' in team '{TEAM_KEY}'...\")\n",
        "variables = {\"teamKey\": TEAM_KEY}\n",
        "data = run_query(get_issues_query, variables)\n",
        "\n",
        "all_issues = data['data']['team']['issues']['nodes']\n",
        "issues_to_update = []\n",
        "\n",
        "for issue in all_issues:\n",
        "    if issue['title'].startswith(ISSUE_TITLE_PREFIX):\n",
        "        issues_to_update.append(issue)\n",
        "\n",
        "if issues_to_update:\n",
        "    print(f\"✅ Found {len(issues_to_update)} matching issues:\")\n",
        "    for issue in issues_to_update:\n",
        "        print(f\"  - {issue['identifier']}: {issue['title']}\")\n",
        "else:\n",
        "    print(f\"⚠️ No issues found with the prefix '{ISSUE_TITLE_PREFIX}'. Nothing to do.\")"
      ]
    },
    {
      "cell_type": "code",
      "execution_count": 13,
      "metadata": {},
      "outputs": [
        {
          "name": "stdout",
          "output_type": "stream",
          "text": [
            "\n",
            "🚀 Starting to update issues...\n",
            "  ✅ Successfully added label to TEA1-18\n",
            "  ✅ Successfully added label to TEA1-17\n",
            "  ✅ Successfully added label to TEA1-15\n",
            "\n",
            "🎉 All done!\n"
          ]
        }
      ],
      "source": [
        "# Cell 4: Step 3 - Add the Label to the Issues\n",
        "\n",
        "# GraphQL mutation to update an issue's labels\n",
        "update_issue_mutation = \"\"\"\n",
        "    mutation($issueId: String!, $labelIds: [String!]!) {\n",
        "      issueUpdate(id: $issueId, input: { labelIds: $labelIds }) {\n",
        "        success\n",
        "        issue {\n",
        "          id\n",
        "          identifier\n",
        "        }\n",
        "      }\n",
        "    }\n",
        "\"\"\"\n",
        "\n",
        "if issues_to_update and label_id:\n",
        "    print(\"\\n🚀 Starting to update issues...\")\n",
        "    for issue in issues_to_update:\n",
        "        # Combine existing labels with the new one, using a set to avoid duplicates\n",
        "        existing_label_ids = set(issue['labelIds'])\n",
        "        existing_label_ids.add(label_id)\n",
        "        \n",
        "        variables = {\n",
        "            \"issueId\": issue['id'],\n",
        "            \"labelIds\": list(existing_label_ids)\n",
        "        }\n",
        "        \n",
        "        update_data = run_query(update_issue_mutation, variables)\n",
        "        \n",
        "        if update_data['data']['issueUpdate']['success']:\n",
        "            print(f\"  ✅ Successfully added label to {issue['identifier']}\")\n",
        "        else:\n",
        "            print(f\"  ❌ Failed to update {issue['identifier']}\")\n",
        "    print(\"\\n🎉 All done!\")\n",
        "else:\n",
        "    print(\"No issues were updated.\")"
      ]
    },
    {
      "cell_type": "code",
      "execution_count": null,
      "metadata": {},
      "outputs": [],
      "source": []
    }
  ],
  "metadata": {
    "kernelspec": {
      "display_name": "Python 3",
      "language": "python",
      "name": "python3"
    },
    "language_info": {
      "codemirror_mode": {
        "name": "ipython",
        "version": 3
      },
      "file_extension": ".py",
      "mimetype": "text/x-python",
      "name": "python",
      "nbconvert_exporter": "python",
      "pygments_lexer": "ipython3",
      "version": "3.11.9"
    }
  },
  "nbformat": 4,
  "nbformat_minor": 2
}
